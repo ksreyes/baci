{
 "cells": [
  {
   "cell_type": "markdown",
   "metadata": {},
   "source": [
    "# Save to Parquet\n",
    "\n",
    "The BACI dataset comes in yearly csv files. This notebook compiles all these in one table and saves it as a Parquet file. \n",
    "\n",
    "Save the downloaded folder from BACI in `raw/`. Set `hs` and `release` below to correpond to the selected version of BACI. The Parquet file will be saved in `final/` under the same name as the downloaded folder."
   ]
  },
  {
   "cell_type": "code",
   "execution_count": 1,
   "metadata": {},
   "outputs": [],
   "source": [
    "hs = 'HS17'             # Change this!\n",
    "release = '202301'      # Change this!"
   ]
  },
  {
   "cell_type": "code",
   "execution_count": 2,
   "metadata": {},
   "outputs": [],
   "source": [
    "import pandas as pd\n",
    "import os\n",
    "import re\n",
    "import duckdb"
   ]
  },
  {
   "cell_type": "code",
   "execution_count": 4,
   "metadata": {},
   "outputs": [
    {
     "name": "stdout",
     "output_type": "stream",
     "text": [
      "2017 done\n",
      "2018 done\n",
      "2019 done\n",
      "2020 done\n",
      "2021 done\n"
     ]
    }
   ],
   "source": [
    "folder = f'BACI_{hs}_V{release}'\n",
    "filelist = [file for file in os.listdir(f'raw/{folder}') if file.startswith('BACI')]\n",
    "filelist.sort()\n",
    "\n",
    "df = pd.DataFrame()\n",
    "\n",
    "for file in filelist:\n",
    "    year = re.search('[0-9]{4}', file).group()\n",
    "    df = pd.concat(\n",
    "        [df, pd.read_csv(f'raw/{folder}/{file}')], \n",
    "        ignore_index=True\n",
    "    )\n",
    "    print(f'{year} done')\n",
    "\n",
    "df.to_parquet(f'final/{folder}.parquet', index=False)"
   ]
  },
  {
   "cell_type": "markdown",
   "metadata": {},
   "source": [
    "## Load and view Parquet file"
   ]
  },
  {
   "cell_type": "code",
   "execution_count": 5,
   "metadata": {},
   "outputs": [
    {
     "data": {
      "text/html": [
       "<div>\n",
       "<style scoped>\n",
       "    .dataframe tbody tr th:only-of-type {\n",
       "        vertical-align: middle;\n",
       "    }\n",
       "\n",
       "    .dataframe tbody tr th {\n",
       "        vertical-align: top;\n",
       "    }\n",
       "\n",
       "    .dataframe thead th {\n",
       "        text-align: right;\n",
       "    }\n",
       "</style>\n",
       "<table border=\"1\" class=\"dataframe\">\n",
       "  <thead>\n",
       "    <tr style=\"text-align: right;\">\n",
       "      <th></th>\n",
       "      <th>t</th>\n",
       "      <th>i</th>\n",
       "      <th>j</th>\n",
       "      <th>k</th>\n",
       "      <th>v</th>\n",
       "      <th>q</th>\n",
       "    </tr>\n",
       "  </thead>\n",
       "  <tbody>\n",
       "    <tr>\n",
       "      <th>0</th>\n",
       "      <td>2017</td>\n",
       "      <td>4</td>\n",
       "      <td>12</td>\n",
       "      <td>130120</td>\n",
       "      <td>5.946</td>\n",
       "      <td>1.400</td>\n",
       "    </tr>\n",
       "    <tr>\n",
       "      <th>1</th>\n",
       "      <td>2017</td>\n",
       "      <td>4</td>\n",
       "      <td>12</td>\n",
       "      <td>130190</td>\n",
       "      <td>5.125</td>\n",
       "      <td>2.320</td>\n",
       "    </tr>\n",
       "    <tr>\n",
       "      <th>2</th>\n",
       "      <td>2017</td>\n",
       "      <td>4</td>\n",
       "      <td>12</td>\n",
       "      <td>401031</td>\n",
       "      <td>0.087</td>\n",
       "      <td>0.002</td>\n",
       "    </tr>\n",
       "    <tr>\n",
       "      <th>3</th>\n",
       "      <td>2017</td>\n",
       "      <td>4</td>\n",
       "      <td>12</td>\n",
       "      <td>853890</td>\n",
       "      <td>0.303</td>\n",
       "      <td>0.019</td>\n",
       "    </tr>\n",
       "    <tr>\n",
       "      <th>4</th>\n",
       "      <td>2017</td>\n",
       "      <td>4</td>\n",
       "      <td>36</td>\n",
       "      <td>71320</td>\n",
       "      <td>3.242</td>\n",
       "      <td>2.446</td>\n",
       "    </tr>\n",
       "    <tr>\n",
       "      <th>5</th>\n",
       "      <td>2017</td>\n",
       "      <td>4</td>\n",
       "      <td>36</td>\n",
       "      <td>80212</td>\n",
       "      <td>8.354</td>\n",
       "      <td>2.194</td>\n",
       "    </tr>\n",
       "    <tr>\n",
       "      <th>6</th>\n",
       "      <td>2017</td>\n",
       "      <td>4</td>\n",
       "      <td>36</td>\n",
       "      <td>80290</td>\n",
       "      <td>4.754</td>\n",
       "      <td>1.060</td>\n",
       "    </tr>\n",
       "    <tr>\n",
       "      <th>7</th>\n",
       "      <td>2017</td>\n",
       "      <td>4</td>\n",
       "      <td>36</td>\n",
       "      <td>80420</td>\n",
       "      <td>1.218</td>\n",
       "      <td>1.547</td>\n",
       "    </tr>\n",
       "    <tr>\n",
       "      <th>8</th>\n",
       "      <td>2017</td>\n",
       "      <td>4</td>\n",
       "      <td>36</td>\n",
       "      <td>80620</td>\n",
       "      <td>48.061</td>\n",
       "      <td>56.845</td>\n",
       "    </tr>\n",
       "    <tr>\n",
       "      <th>9</th>\n",
       "      <td>2017</td>\n",
       "      <td>4</td>\n",
       "      <td>36</td>\n",
       "      <td>81310</td>\n",
       "      <td>13.641</td>\n",
       "      <td>17.025</td>\n",
       "    </tr>\n",
       "  </tbody>\n",
       "</table>\n",
       "</div>"
      ],
      "text/plain": [
       "      t  i   j       k       v              q\n",
       "0  2017  4  12  130120   5.946          1.400\n",
       "1  2017  4  12  130190   5.125          2.320\n",
       "2  2017  4  12  401031   0.087          0.002\n",
       "3  2017  4  12  853890   0.303          0.019\n",
       "4  2017  4  36   71320   3.242          2.446\n",
       "5  2017  4  36   80212   8.354          2.194\n",
       "6  2017  4  36   80290   4.754          1.060\n",
       "7  2017  4  36   80420   1.218          1.547\n",
       "8  2017  4  36   80620  48.061         56.845\n",
       "9  2017  4  36   81310  13.641         17.025"
      ]
     },
     "execution_count": 5,
     "metadata": {},
     "output_type": "execute_result"
    }
   ],
   "source": [
    "duckdb.sql(\n",
    "    f\"\"\"\n",
    "    SELECT * \n",
    "    FROM read_parquet('final/{folder}.parquet')\n",
    "    LIMIT 10\n",
    "    \"\"\"\n",
    ").df()"
   ]
  }
 ],
 "metadata": {
  "kernelspec": {
   "display_name": "adb",
   "language": "python",
   "name": "python3"
  },
  "language_info": {
   "codemirror_mode": {
    "name": "ipython",
    "version": 3
   },
   "file_extension": ".py",
   "mimetype": "text/x-python",
   "name": "python",
   "nbconvert_exporter": "python",
   "pygments_lexer": "ipython3",
   "version": "3.11.2"
  },
  "orig_nbformat": 4
 },
 "nbformat": 4,
 "nbformat_minor": 2
}

{
 "cells": [
  {
   "cell_type": "markdown",
   "metadata": {},
   "source": [
    "# Usage\n",
    "\n",
    "All functions are in `baci.py`."
   ]
  },
  {
   "cell_type": "code",
   "execution_count": 1,
   "metadata": {},
   "outputs": [],
   "source": [
    "from baci import baci_to_parquet, aggregate_baci"
   ]
  },
  {
   "cell_type": "markdown",
   "metadata": {},
   "source": [
    "## Initial processing\n",
    "\n",
    "From the [BACI website](http://www.cepii.fr/CEPII/en/bdd_modele/bdd_modele_item.asp?id=37), select a particular version of the dataset to work on. This is defined by an HS edition and a release date. Downloading and unzipping yields a folder of yearly csv files. Store this folder under `raw`.\n",
    "\n",
    "Next, run the `baci_to_parquet()` function to convert the csv files into one parquet file. This will be saved in `final`."
   ]
  },
  {
   "cell_type": "code",
   "execution_count": 2,
   "metadata": {},
   "outputs": [
    {
     "name": "stdout",
     "output_type": "stream",
     "text": [
      "'BACI_HS17_V202301.parquet' successfully saved in 'final'.\n"
     ]
    }
   ],
   "source": [
    "hs = 'HS17'             # Change this!\n",
    "release = '202301'      # Change this!\n",
    "\n",
    "baci_to_parquet(hs=hs, release=release)"
   ]
  },
  {
   "cell_type": "markdown",
   "metadata": {},
   "source": [
    "The folders `raw` and `final` may be changed to the user's liking through the arguments `input_folder` and `output_folder`. For example, if one wishes to keep all files in the project's root directory, run\n",
    "\n",
    "```python\n",
    "baci_to_parquet(hs=hs, release=release, input_folder=None, output_folder=None)\n",
    "```"
   ]
  },
  {
   "cell_type": "markdown",
   "metadata": {},
   "source": [
    "Take a quick view of the saved file using DuckDB."
   ]
  },
  {
   "cell_type": "code",
   "execution_count": 3,
   "metadata": {},
   "outputs": [
    {
     "data": {
      "text/html": [
       "<div>\n",
       "<style scoped>\n",
       "    .dataframe tbody tr th:only-of-type {\n",
       "        vertical-align: middle;\n",
       "    }\n",
       "\n",
       "    .dataframe tbody tr th {\n",
       "        vertical-align: top;\n",
       "    }\n",
       "\n",
       "    .dataframe thead th {\n",
       "        text-align: right;\n",
       "    }\n",
       "</style>\n",
       "<table border=\"1\" class=\"dataframe\">\n",
       "  <thead>\n",
       "    <tr style=\"text-align: right;\">\n",
       "      <th></th>\n",
       "      <th>t</th>\n",
       "      <th>i</th>\n",
       "      <th>j</th>\n",
       "      <th>k</th>\n",
       "      <th>v</th>\n",
       "      <th>q</th>\n",
       "    </tr>\n",
       "  </thead>\n",
       "  <tbody>\n",
       "    <tr>\n",
       "      <th>0</th>\n",
       "      <td>2018</td>\n",
       "      <td>4</td>\n",
       "      <td>24</td>\n",
       "      <td>845420</td>\n",
       "      <td>112.734</td>\n",
       "      <td>26.000</td>\n",
       "    </tr>\n",
       "    <tr>\n",
       "      <th>1</th>\n",
       "      <td>2018</td>\n",
       "      <td>4</td>\n",
       "      <td>24</td>\n",
       "      <td>848180</td>\n",
       "      <td>2.632</td>\n",
       "      <td>0.007</td>\n",
       "    </tr>\n",
       "    <tr>\n",
       "      <th>2</th>\n",
       "      <td>2018</td>\n",
       "      <td>4</td>\n",
       "      <td>31</td>\n",
       "      <td>570110</td>\n",
       "      <td>1.596</td>\n",
       "      <td>0.037</td>\n",
       "    </tr>\n",
       "    <tr>\n",
       "      <th>3</th>\n",
       "      <td>2018</td>\n",
       "      <td>4</td>\n",
       "      <td>32</td>\n",
       "      <td>340319</td>\n",
       "      <td>8.743</td>\n",
       "      <td>0.114</td>\n",
       "    </tr>\n",
       "    <tr>\n",
       "      <th>4</th>\n",
       "      <td>2018</td>\n",
       "      <td>4</td>\n",
       "      <td>32</td>\n",
       "      <td>391739</td>\n",
       "      <td>0.164</td>\n",
       "      <td>NA</td>\n",
       "    </tr>\n",
       "    <tr>\n",
       "      <th>5</th>\n",
       "      <td>2018</td>\n",
       "      <td>4</td>\n",
       "      <td>32</td>\n",
       "      <td>610910</td>\n",
       "      <td>1.098</td>\n",
       "      <td>0.013</td>\n",
       "    </tr>\n",
       "    <tr>\n",
       "      <th>6</th>\n",
       "      <td>2018</td>\n",
       "      <td>4</td>\n",
       "      <td>32</td>\n",
       "      <td>710310</td>\n",
       "      <td>0.142</td>\n",
       "      <td>0.007</td>\n",
       "    </tr>\n",
       "    <tr>\n",
       "      <th>7</th>\n",
       "      <td>2018</td>\n",
       "      <td>4</td>\n",
       "      <td>32</td>\n",
       "      <td>710399</td>\n",
       "      <td>1.577</td>\n",
       "      <td>0.108</td>\n",
       "    </tr>\n",
       "    <tr>\n",
       "      <th>8</th>\n",
       "      <td>2018</td>\n",
       "      <td>4</td>\n",
       "      <td>32</td>\n",
       "      <td>854232</td>\n",
       "      <td>0.332</td>\n",
       "      <td>0.002</td>\n",
       "    </tr>\n",
       "    <tr>\n",
       "      <th>9</th>\n",
       "      <td>2018</td>\n",
       "      <td>4</td>\n",
       "      <td>32</td>\n",
       "      <td>902519</td>\n",
       "      <td>0.511</td>\n",
       "      <td>0.004</td>\n",
       "    </tr>\n",
       "  </tbody>\n",
       "</table>\n",
       "</div>"
      ],
      "text/plain": [
       "      t  i   j       k        v              q\n",
       "0  2018  4  24  845420  112.734         26.000\n",
       "1  2018  4  24  848180    2.632          0.007\n",
       "2  2018  4  31  570110    1.596          0.037\n",
       "3  2018  4  32  340319    8.743          0.114\n",
       "4  2018  4  32  391739    0.164             NA\n",
       "5  2018  4  32  610910    1.098          0.013\n",
       "6  2018  4  32  710310    0.142          0.007\n",
       "7  2018  4  32  710399    1.577          0.108\n",
       "8  2018  4  32  854232    0.332          0.002\n",
       "9  2018  4  32  902519    0.511          0.004"
      ]
     },
     "execution_count": 3,
     "metadata": {},
     "output_type": "execute_result"
    }
   ],
   "source": [
    "import duckdb\n",
    "\n",
    "duckdb.sql(\"SELECT * FROM 'final/BACI_HS17_V202301.parquet' LIMIT 10\").df()"
   ]
  },
  {
   "cell_type": "markdown",
   "metadata": {},
   "source": [
    "## Aggregations\n",
    "\n",
    "Products in the BACI dataset are at the 6-digit HS level. Depending on the use case, it may be preferable to work with an aggregated version of the dataset. The function `aggregate_baci()` aggregates the dataset to the 4-digit, 2-digit, or country level and saves it as a new parquet file. The `aggregation` argument accepts `country`, `2digit`, and `4digit`, with the default being `country`.\n",
    "\n",
    "Aggregating the column `q` (weight of trade flows in metric tons) may lead to misleading results due to a substantial number of missing values, so it is dropped here."
   ]
  },
  {
   "cell_type": "code",
   "execution_count": 4,
   "metadata": {},
   "outputs": [],
   "source": [
    "aggregate_baci(\n",
    "    input=f'final/BACI_{hs}_V{release}.parquet',\n",
    "    output=f'final/BACI_{hs}_V{release}-2digit.parquet',\n",
    "    aggregation='2digit'\n",
    ")"
   ]
  },
  {
   "cell_type": "markdown",
   "metadata": {},
   "source": [
    "View the results:"
   ]
  },
  {
   "cell_type": "code",
   "execution_count": 5,
   "metadata": {},
   "outputs": [
    {
     "data": {
      "text/html": [
       "<div>\n",
       "<style scoped>\n",
       "    .dataframe tbody tr th:only-of-type {\n",
       "        vertical-align: middle;\n",
       "    }\n",
       "\n",
       "    .dataframe tbody tr th {\n",
       "        vertical-align: top;\n",
       "    }\n",
       "\n",
       "    .dataframe thead th {\n",
       "        text-align: right;\n",
       "    }\n",
       "</style>\n",
       "<table border=\"1\" class=\"dataframe\">\n",
       "  <thead>\n",
       "    <tr style=\"text-align: right;\">\n",
       "      <th></th>\n",
       "      <th>t</th>\n",
       "      <th>i</th>\n",
       "      <th>j</th>\n",
       "      <th>k2</th>\n",
       "      <th>v</th>\n",
       "    </tr>\n",
       "  </thead>\n",
       "  <tbody>\n",
       "    <tr>\n",
       "      <th>0</th>\n",
       "      <td>2017</td>\n",
       "      <td>300</td>\n",
       "      <td>682</td>\n",
       "      <td>06</td>\n",
       "      <td>14.706</td>\n",
       "    </tr>\n",
       "    <tr>\n",
       "      <th>1</th>\n",
       "      <td>2017</td>\n",
       "      <td>300</td>\n",
       "      <td>682</td>\n",
       "      <td>12</td>\n",
       "      <td>4998.850</td>\n",
       "    </tr>\n",
       "    <tr>\n",
       "      <th>2</th>\n",
       "      <td>2017</td>\n",
       "      <td>300</td>\n",
       "      <td>682</td>\n",
       "      <td>56</td>\n",
       "      <td>903.204</td>\n",
       "    </tr>\n",
       "    <tr>\n",
       "      <th>3</th>\n",
       "      <td>2017</td>\n",
       "      <td>300</td>\n",
       "      <td>682</td>\n",
       "      <td>68</td>\n",
       "      <td>6775.087</td>\n",
       "    </tr>\n",
       "    <tr>\n",
       "      <th>4</th>\n",
       "      <td>2017</td>\n",
       "      <td>300</td>\n",
       "      <td>682</td>\n",
       "      <td>76</td>\n",
       "      <td>6495.575</td>\n",
       "    </tr>\n",
       "    <tr>\n",
       "      <th>5</th>\n",
       "      <td>2017</td>\n",
       "      <td>300</td>\n",
       "      <td>682</td>\n",
       "      <td>83</td>\n",
       "      <td>4623.852</td>\n",
       "    </tr>\n",
       "    <tr>\n",
       "      <th>6</th>\n",
       "      <td>2017</td>\n",
       "      <td>300</td>\n",
       "      <td>686</td>\n",
       "      <td>62</td>\n",
       "      <td>11.718</td>\n",
       "    </tr>\n",
       "    <tr>\n",
       "      <th>7</th>\n",
       "      <td>2017</td>\n",
       "      <td>300</td>\n",
       "      <td>686</td>\n",
       "      <td>64</td>\n",
       "      <td>1.010</td>\n",
       "    </tr>\n",
       "    <tr>\n",
       "      <th>8</th>\n",
       "      <td>2017</td>\n",
       "      <td>300</td>\n",
       "      <td>686</td>\n",
       "      <td>85</td>\n",
       "      <td>35.533</td>\n",
       "    </tr>\n",
       "    <tr>\n",
       "      <th>9</th>\n",
       "      <td>2017</td>\n",
       "      <td>300</td>\n",
       "      <td>686</td>\n",
       "      <td>87</td>\n",
       "      <td>307.690</td>\n",
       "    </tr>\n",
       "  </tbody>\n",
       "</table>\n",
       "</div>"
      ],
      "text/plain": [
       "      t    i    j  k2         v\n",
       "0  2017  300  682  06    14.706\n",
       "1  2017  300  682  12  4998.850\n",
       "2  2017  300  682  56   903.204\n",
       "3  2017  300  682  68  6775.087\n",
       "4  2017  300  682  76  6495.575\n",
       "5  2017  300  682  83  4623.852\n",
       "6  2017  300  686  62    11.718\n",
       "7  2017  300  686  64     1.010\n",
       "8  2017  300  686  85    35.533\n",
       "9  2017  300  686  87   307.690"
      ]
     },
     "execution_count": 5,
     "metadata": {},
     "output_type": "execute_result"
    }
   ],
   "source": [
    "duckdb.sql(\"SELECT * FROM 'final/BACI_HS17_V202301-2digit.parquet' LIMIT 10\").df()"
   ]
  }
 ],
 "metadata": {
  "kernelspec": {
   "display_name": "baci",
   "language": "python",
   "name": "python3"
  },
  "language_info": {
   "codemirror_mode": {
    "name": "ipython",
    "version": 3
   },
   "file_extension": ".py",
   "mimetype": "text/x-python",
   "name": "python",
   "nbconvert_exporter": "python",
   "pygments_lexer": "ipython3",
   "version": "3.11.3"
  },
  "orig_nbformat": 4
 },
 "nbformat": 4,
 "nbformat_minor": 2
}
